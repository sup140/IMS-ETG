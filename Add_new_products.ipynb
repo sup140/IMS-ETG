{
  "nbformat": 4,
  "nbformat_minor": 0,
  "metadata": {
    "colab": {
      "name": "Add new products.ipynb",
      "provenance": []
    },
    "kernelspec": {
      "name": "python3",
      "display_name": "Python 3"
    },
    "language_info": {
      "name": "python"
    }
  },
  "cells": [
    {
      "cell_type": "markdown",
      "metadata": {
        "id": "Ty4Q0a6WTTu1"
      },
      "source": [
        "ADDING PRODUCTS"
      ]
    },
    {
      "cell_type": "code",
      "metadata": {
        "id": "PZLt2YC3Ql_T"
      },
      "source": [
        "import json\n",
        "fd= open(\"record.json\",'r')\n",
        "f= fd.read()\n",
        "fd.close()\n",
        "record = json.loads(f)"
      ],
      "execution_count": 113,
      "outputs": []
    },
    {
      "cell_type": "code",
      "metadata": {
        "id": "7QdIgeNibZnG"
      },
      "source": [
        "record"
      ],
      "execution_count": null,
      "outputs": []
    },
    {
      "cell_type": "code",
      "metadata": {
        "id": "fxf630IdRgwQ"
      },
      "source": [
        "import datetime\n",
        "prod_id= str(input(\"Enter product ID \"))\n",
        "prod_name=str(input(\"Enter product name \"))\n",
        "prod_price= int(input(\"Enter the product price \"))\n",
        "prod_quant= int(input(\"Enter product quantity \"))\n",
        "prod_life= int(input(\"Enter shelf life in months \"))\n",
        "today = datetime.datetime.now()\n",
        "date_time = today.strftime(\"%m/%d/%Y, %H:%M:%S\")\n",
        "if prod_id in record:\n",
        "  newq = int(str(int(record[prod_id]['qn'])+ prod_quant))\n",
        "  record[prod_id]= {\"name\":prod_name,'pr':prod_price, 'qn': newq,'datetime': date_time,'sl':prod_life}\n",
        "else:\n",
        "  record[prod_id]= {\"name\":prod_name,'pr':prod_price, 'qn': prod_quant,'datetime': date_time,'sl':prod_life}\n",
        "\n",
        "js= json.dumps(record)\n",
        "fd= open('record.json', 'w')\n",
        "f= fd.write(js)\n",
        "fd.close()\n"
      ],
      "execution_count": null,
      "outputs": []
    },
    {
      "cell_type": "markdown",
      "metadata": {
        "id": "4R_MFK7CQn4d"
      },
      "source": [
        "# New Section"
      ]
    }
  ]
}