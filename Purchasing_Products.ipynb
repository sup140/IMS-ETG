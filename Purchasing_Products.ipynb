{
  "nbformat": 4,
  "nbformat_minor": 0,
  "metadata": {
    "colab": {
      "name": "Purchasing_Products.ipynb",
      "provenance": [],
      "collapsed_sections": []
    },
    "kernelspec": {
      "name": "python3",
      "display_name": "Python 3"
    },
    "language_info": {
      "name": "python"
    }
  },
  "cells": [
    {
      "cell_type": "markdown",
      "metadata": {
        "id": "R6NHgAYkxqSl"
      },
      "source": [
        "## Read Inventory"
      ]
    },
    {
      "cell_type": "code",
      "metadata": {
        "id": "jkJT24jqug9n"
      },
      "source": [
        "import json\n",
        "import datetime\n",
        "\n",
        "fd = open(\"record.json\",'r')\n",
        "r = fd.read()\n",
        "fd.close()\n",
        "\n",
        "records = json.loads(r)"
      ],
      "execution_count": 48,
      "outputs": []
    },
    {
      "cell_type": "code",
      "metadata": {
        "colab": {
          "base_uri": "https://localhost:8080/"
        },
        "id": "CcLYokrlus6z",
        "outputId": "bc00a6fb-a60f-4e38-a2e6-30da3afce026"
      },
      "source": [
        "records"
      ],
      "execution_count": 49,
      "outputs": [
        {
          "output_type": "execute_result",
          "data": {
            "text/plain": [
              "{'1001': {'datetime': '09/06/2021, 19:19:02',\n",
              "  'name': 'Choco Cake',\n",
              "  'pr': 100,\n",
              "  'qn': 34,\n",
              "  'sl': 10},\n",
              " '1002': {'datetime': '09/06/2021, 14:14:04',\n",
              "  'name': 'Cake',\n",
              "  'pr': 200,\n",
              "  'qn': 110,\n",
              "  'sl': 11},\n",
              " '1003': {'datetime': '09/06/2021, 19:19:02',\n",
              "  'name': 'Drink',\n",
              "  'pr': 85,\n",
              "  'qn': 87,\n",
              "  'sl': 10},\n",
              " '1004': {'datetime': '09/06/2021, 19:19:02',\n",
              "  'name': 'Candy',\n",
              "  'pr': 5,\n",
              "  'qn': 1000,\n",
              "  'sl': 10},\n",
              " '1005': {'datetime': '09/06/2021, 19:19:02',\n",
              "  'name': 'Pen',\n",
              "  'pr': 20,\n",
              "  'qn': 100,\n",
              "  'sl': 10},\n",
              " '1006': {'datetime': '09/06/2021, 19:19:02',\n",
              "  'name': 'Phone',\n",
              "  'pr': 50000,\n",
              "  'qn': 10,\n",
              "  'sl': 15},\n",
              " '1007': {'datetime': '09/06/2021, 19:19:02',\n",
              "  'name': 'Mic',\n",
              "  'pr': 1500,\n",
              "  'qn': 0,\n",
              "  'sl': 11},\n",
              " '1008': {'datetime': '09/06/2021, 19:19:02',\n",
              "  'name': 'Case',\n",
              "  'pr': 599,\n",
              "  'qn': 5,\n",
              "  'sl': 12},\n",
              " '1009': {'datetime': '09/06/2021, 19:19:02',\n",
              "  'name': 'Keyboard',\n",
              "  'pr': 1999,\n",
              "  'qn': 10,\n",
              "  'sl': 11},\n",
              " '1010': {'datetime': '09/06/2021, 19:19:02',\n",
              "  'name': 'Coffee',\n",
              "  'pr': 50,\n",
              "  'qn': 34,\n",
              "  'sl': 15},\n",
              " '1011': {'datetime': '09/06/2021, 19:19:02',\n",
              "  'name': 'Tea',\n",
              "  'pr': 100,\n",
              "  'qn': 100,\n",
              "  'sl': 12},\n",
              " '1012': {'datetime': '09/06/2021, 19:19:02',\n",
              "  'name': 'Sugar',\n",
              "  'pr': 50,\n",
              "  'qn': 100,\n",
              "  'sl': 12},\n",
              " '1013': {'datetime': '09/06/2021, 19:19:02',\n",
              "  'name': 'Milk',\n",
              "  'pr': 42,\n",
              "  'qn': 1000,\n",
              "  'sl': 11},\n",
              " '1014': {'datetime': '09/06/2021, 19:19:02',\n",
              "  'name': 'Salt',\n",
              "  'pr': 20,\n",
              "  'qn': 100,\n",
              "  'sl': 13},\n",
              " '1015': {'datetime': '09/06/2021, 19:19:02',\n",
              "  'name': 'Pet food',\n",
              "  'pr': 100,\n",
              "  'qn': 10,\n",
              "  'sl': 15},\n",
              " '1016': {'datetime': '09/06/2021, 19:19:02',\n",
              "  'name': 'Comb',\n",
              "  'pr': 15,\n",
              "  'qn': 0,\n",
              "  'sl': 15},\n",
              " '1017': {'datetime': '09/06/2021, 19:19:02',\n",
              "  'name': 'Toothbrush',\n",
              "  'pr': 59,\n",
              "  'qn': 5,\n",
              "  'sl': 11},\n",
              " '1018': {'datetime': '09/06/2021, 19:19:02',\n",
              "  'name': 'Toothpaste',\n",
              "  'pr': 100,\n",
              "  'qn': 10,\n",
              "  'sl': 17},\n",
              " '1019': {'datetime': '09/06/2021, 19:19:02',\n",
              "  'name': 'Lux Soap',\n",
              "  'pr': 50,\n",
              "  'qn': 34,\n",
              "  'sl': 1},\n",
              " '1020': {'datetime': '09/06/2021, 19:19:02',\n",
              "  'name': 'Lux body wash',\n",
              "  'pr': 100,\n",
              "  'qn': 100,\n",
              "  'sl': 11},\n",
              " '1021': {'datetime': '09/06/2021, 19:19:02',\n",
              "  'name': 'Loofah',\n",
              "  'pr': 85,\n",
              "  'qn': 100,\n",
              "  'sl': 10},\n",
              " '1022': {'datetime': '09/06/2021, 19:19:02',\n",
              "  'name': 'Wheat',\n",
              "  'pr': 50,\n",
              "  'qn': 100,\n",
              "  'sl': 10},\n",
              " '1023': {'datetime': '09/06/2021, 19:19:02',\n",
              "  'name': 'Rice',\n",
              "  'pr': 50,\n",
              "  'qn': 10,\n",
              "  'sl': 10},\n",
              " '1024': {'datetime': '09/06/2021, 19:19:02',\n",
              "  'name': 'Maize',\n",
              "  'pr': 20,\n",
              "  'qn': 0,\n",
              "  'sl': 10},\n",
              " '1025': {'datetime': '09/06/2021, 19:19:02',\n",
              "  'name': 'Finger Millet',\n",
              "  'pr': 59,\n",
              "  'qn': 5,\n",
              "  'sl': 10},\n",
              " '1026': {'datetime': '09/06/2021, 19:19:02',\n",
              "  'name': 'Mouse',\n",
              "  'pr': 199,\n",
              "  'qn': 10,\n",
              "  'sl': 10},\n",
              " '1027': {'datetime': '09/06/2021, 19:19:02',\n",
              "  'name': 'Book',\n",
              "  'pr': 100,\n",
              "  'qn': 34,\n",
              "  'sl': 10},\n",
              " '1028': {'datetime': '09/06/2021, 19:19:02',\n",
              "  'name': 'Bottle',\n",
              "  'pr': 200,\n",
              "  'qn': 100,\n",
              "  'sl': 10},\n",
              " '1029': {'datetime': '09/06/2021, 19:19:02',\n",
              "  'name': 'Soda',\n",
              "  'pr': 85,\n",
              "  'qn': 100,\n",
              "  'sl': 10},\n",
              " '1030': {'datetime': '09/06/2021, 19:19:02',\n",
              "  'name': 'Body Lotion',\n",
              "  'pr': 500,\n",
              "  'qn': 1000,\n",
              "  'sl': 10},\n",
              " '1031': {'datetime': '09/06/2021, 19:19:02',\n",
              "  'name': 'Cooking oil',\n",
              "  'pr': 700,\n",
              "  'qn': 100,\n",
              "  'sl': 10}}"
            ]
          },
          "metadata": {},
          "execution_count": 49
        }
      ]
    },
    {
      "cell_type": "markdown",
      "metadata": {
        "id": "WI5f7HTuxwzb"
      },
      "source": [
        "## Purchase"
      ]
    },
    {
      "cell_type": "code",
      "metadata": {
        "colab": {
          "base_uri": "https://localhost:8080/"
        },
        "id": "c4E4eIvyuth0",
        "outputId": "1627a52b-d324-4790-a234-fd6c0cf01185"
      },
      "source": [
        "ui_prod  = str(input(\"Enter the product_Id: \"))\n",
        "ui_quant = int(input(\"Enter the quantity: \"))\n",
        "today = datetime.datetime.now()\n",
        "date_time = today.strftime(\"%m/%d/%Y, %H:%M:%S\")\n",
        "print(\"Product: \", records[ui_prod]['name'])\n",
        "print(\"Price: \", records[ui_prod]['pr'])\n",
        "\n",
        "print(\"Billing Amount: \", records[ui_prod]['pr'] * ui_quant)\n",
        "\n",
        "records[ui_prod]['qn'] = records[ui_prod]['qn'] - ui_quant"
      ],
      "execution_count": 50,
      "outputs": [
        {
          "output_type": "stream",
          "name": "stdout",
          "text": [
            "Enter the product_Id: 1004\n",
            "Enter the quantity: 1\n",
            "Product:  Candy\n",
            "Price:  5\n",
            "Billing Amount:  5\n"
          ]
        }
      ]
    },
    {
      "cell_type": "markdown",
      "metadata": {
        "id": "3h8S8JBVx1_D"
      },
      "source": [
        "## Update Inventory after purchase"
      ]
    },
    {
      "cell_type": "code",
      "metadata": {
        "id": "TO68fUvvwzXt"
      },
      "source": [
        "js = json.dumps(records)\n",
        "\n",
        "fd = open(\"record.json\",'w')\n",
        "fd.write(js)\n",
        "fd.close()"
      ],
      "execution_count": 51,
      "outputs": []
    },
    {
      "cell_type": "code",
      "metadata": {
        "colab": {
          "base_uri": "https://localhost:8080/"
        },
        "id": "PDiRam6Od32A",
        "outputId": "45c0e1b1-7a1b-451f-ee04-932eb641f3de"
      },
      "source": [
        "records"
      ],
      "execution_count": 52,
      "outputs": [
        {
          "output_type": "execute_result",
          "data": {
            "text/plain": [
              "{'1001': {'datetime': '09/06/2021, 19:19:02',\n",
              "  'name': 'Choco Cake',\n",
              "  'pr': 100,\n",
              "  'qn': 34,\n",
              "  'sl': 10},\n",
              " '1002': {'datetime': '09/06/2021, 14:14:04',\n",
              "  'name': 'Cake',\n",
              "  'pr': 200,\n",
              "  'qn': 110,\n",
              "  'sl': 11},\n",
              " '1003': {'datetime': '09/06/2021, 19:19:02',\n",
              "  'name': 'Drink',\n",
              "  'pr': 85,\n",
              "  'qn': 87,\n",
              "  'sl': 10},\n",
              " '1004': {'datetime': '09/06/2021, 19:19:02',\n",
              "  'name': 'Candy',\n",
              "  'pr': 5,\n",
              "  'qn': 999,\n",
              "  'sl': 10},\n",
              " '1005': {'datetime': '09/06/2021, 19:19:02',\n",
              "  'name': 'Pen',\n",
              "  'pr': 20,\n",
              "  'qn': 100,\n",
              "  'sl': 10},\n",
              " '1006': {'datetime': '09/06/2021, 19:19:02',\n",
              "  'name': 'Phone',\n",
              "  'pr': 50000,\n",
              "  'qn': 10,\n",
              "  'sl': 15},\n",
              " '1007': {'datetime': '09/06/2021, 19:19:02',\n",
              "  'name': 'Mic',\n",
              "  'pr': 1500,\n",
              "  'qn': 0,\n",
              "  'sl': 11},\n",
              " '1008': {'datetime': '09/06/2021, 19:19:02',\n",
              "  'name': 'Case',\n",
              "  'pr': 599,\n",
              "  'qn': 5,\n",
              "  'sl': 12},\n",
              " '1009': {'datetime': '09/06/2021, 19:19:02',\n",
              "  'name': 'Keyboard',\n",
              "  'pr': 1999,\n",
              "  'qn': 10,\n",
              "  'sl': 11},\n",
              " '1010': {'datetime': '09/06/2021, 19:19:02',\n",
              "  'name': 'Coffee',\n",
              "  'pr': 50,\n",
              "  'qn': 34,\n",
              "  'sl': 15},\n",
              " '1011': {'datetime': '09/06/2021, 19:19:02',\n",
              "  'name': 'Tea',\n",
              "  'pr': 100,\n",
              "  'qn': 100,\n",
              "  'sl': 12},\n",
              " '1012': {'datetime': '09/06/2021, 19:19:02',\n",
              "  'name': 'Sugar',\n",
              "  'pr': 50,\n",
              "  'qn': 100,\n",
              "  'sl': 12},\n",
              " '1013': {'datetime': '09/06/2021, 19:19:02',\n",
              "  'name': 'Milk',\n",
              "  'pr': 42,\n",
              "  'qn': 1000,\n",
              "  'sl': 11},\n",
              " '1014': {'datetime': '09/06/2021, 19:19:02',\n",
              "  'name': 'Salt',\n",
              "  'pr': 20,\n",
              "  'qn': 100,\n",
              "  'sl': 13},\n",
              " '1015': {'datetime': '09/06/2021, 19:19:02',\n",
              "  'name': 'Pet food',\n",
              "  'pr': 100,\n",
              "  'qn': 10,\n",
              "  'sl': 15},\n",
              " '1016': {'datetime': '09/06/2021, 19:19:02',\n",
              "  'name': 'Comb',\n",
              "  'pr': 15,\n",
              "  'qn': 0,\n",
              "  'sl': 15},\n",
              " '1017': {'datetime': '09/06/2021, 19:19:02',\n",
              "  'name': 'Toothbrush',\n",
              "  'pr': 59,\n",
              "  'qn': 5,\n",
              "  'sl': 11},\n",
              " '1018': {'datetime': '09/06/2021, 19:19:02',\n",
              "  'name': 'Toothpaste',\n",
              "  'pr': 100,\n",
              "  'qn': 10,\n",
              "  'sl': 17},\n",
              " '1019': {'datetime': '09/06/2021, 19:19:02',\n",
              "  'name': 'Lux Soap',\n",
              "  'pr': 50,\n",
              "  'qn': 34,\n",
              "  'sl': 1},\n",
              " '1020': {'datetime': '09/06/2021, 19:19:02',\n",
              "  'name': 'Lux body wash',\n",
              "  'pr': 100,\n",
              "  'qn': 100,\n",
              "  'sl': 11},\n",
              " '1021': {'datetime': '09/06/2021, 19:19:02',\n",
              "  'name': 'Loofah',\n",
              "  'pr': 85,\n",
              "  'qn': 100,\n",
              "  'sl': 10},\n",
              " '1022': {'datetime': '09/06/2021, 19:19:02',\n",
              "  'name': 'Wheat',\n",
              "  'pr': 50,\n",
              "  'qn': 100,\n",
              "  'sl': 10},\n",
              " '1023': {'datetime': '09/06/2021, 19:19:02',\n",
              "  'name': 'Rice',\n",
              "  'pr': 50,\n",
              "  'qn': 10,\n",
              "  'sl': 10},\n",
              " '1024': {'datetime': '09/06/2021, 19:19:02',\n",
              "  'name': 'Maize',\n",
              "  'pr': 20,\n",
              "  'qn': 0,\n",
              "  'sl': 10},\n",
              " '1025': {'datetime': '09/06/2021, 19:19:02',\n",
              "  'name': 'Finger Millet',\n",
              "  'pr': 59,\n",
              "  'qn': 5,\n",
              "  'sl': 10},\n",
              " '1026': {'datetime': '09/06/2021, 19:19:02',\n",
              "  'name': 'Mouse',\n",
              "  'pr': 199,\n",
              "  'qn': 10,\n",
              "  'sl': 10},\n",
              " '1027': {'datetime': '09/06/2021, 19:19:02',\n",
              "  'name': 'Book',\n",
              "  'pr': 100,\n",
              "  'qn': 34,\n",
              "  'sl': 10},\n",
              " '1028': {'datetime': '09/06/2021, 19:19:02',\n",
              "  'name': 'Bottle',\n",
              "  'pr': 200,\n",
              "  'qn': 100,\n",
              "  'sl': 10},\n",
              " '1029': {'datetime': '09/06/2021, 19:19:02',\n",
              "  'name': 'Soda',\n",
              "  'pr': 85,\n",
              "  'qn': 100,\n",
              "  'sl': 10},\n",
              " '1030': {'datetime': '09/06/2021, 19:19:02',\n",
              "  'name': 'Body Lotion',\n",
              "  'pr': 500,\n",
              "  'qn': 1000,\n",
              "  'sl': 10},\n",
              " '1031': {'datetime': '09/06/2021, 19:19:02',\n",
              "  'name': 'Cooking oil',\n",
              "  'pr': 700,\n",
              "  'qn': 100,\n",
              "  'sl': 10}}"
            ]
          },
          "metadata": {},
          "execution_count": 52
        }
      ]
    },
    {
      "cell_type": "markdown",
      "metadata": {
        "id": "pl_p5yDpyu_9"
      },
      "source": [
        "## Sales JSON"
      ]
    },
    {
      "cell_type": "code",
      "metadata": {
        "id": "eLRBRxnJkzph"
      },
      "source": [
        "import json\n",
        "import datetime\n",
        "\n",
        "fd = open(\"sales.json\",'r')\n",
        "r = fd.read()\n",
        "fd.close()\n",
        "\n",
        "sales = json.loads(r)"
      ],
      "execution_count": 53,
      "outputs": []
    },
    {
      "cell_type": "code",
      "metadata": {
        "colab": {
          "base_uri": "https://localhost:8080/"
        },
        "id": "9QfYrbo1kzrv",
        "outputId": "8c65d3a5-2c2d-49a1-827f-7872d409509c"
      },
      "source": [
        "sales"
      ],
      "execution_count": 54,
      "outputs": [
        {
          "output_type": "execute_result",
          "data": {
            "text/plain": [
              "{'1': {'amount': 1000,\n",
              "  'datetime': '09/06/2021, 19:19:02',\n",
              "  'prod': 1001,\n",
              "  'qn': 10},\n",
              " '2': {'amount': 850,\n",
              "  'datetime': '09/06/2021, 14:50:38',\n",
              "  'prod': '1003',\n",
              "  'qn': 10},\n",
              " '3': {'amount': 850,\n",
              "  'datetime': '09/06/2021, 14:50:38',\n",
              "  'prod': '1003',\n",
              "  'qn': 10}}"
            ]
          },
          "metadata": {},
          "execution_count": 54
        }
      ]
    },
    {
      "cell_type": "code",
      "metadata": {
        "id": "6R0kXinOyWbK"
      },
      "source": [
        "sales[(len(sales)+1)]= {'prod' : ui_prod, 'qn' : ui_quant, 'amount': records[ui_prod]['pr'] * ui_quant,'datetime':date_time}"
      ],
      "execution_count": 55,
      "outputs": []
    },
    {
      "cell_type": "code",
      "metadata": {
        "id": "WV90nAsUe2Mp"
      },
      "source": [
        "js = json.dumps(sales)\n",
        "\n",
        "fd = open(\"sales.json\",'w')\n",
        "fd.write(js)\n",
        "fd.close()"
      ],
      "execution_count": 56,
      "outputs": []
    },
    {
      "cell_type": "code",
      "metadata": {
        "colab": {
          "base_uri": "https://localhost:8080/"
        },
        "id": "dwsKaanie2zr",
        "outputId": "19a88dbe-a473-4ef5-9244-78eb955582c3"
      },
      "source": [
        "sales"
      ],
      "execution_count": 57,
      "outputs": [
        {
          "output_type": "execute_result",
          "data": {
            "text/plain": [
              "{'1': {'amount': 1000,\n",
              "  'datetime': '09/06/2021, 19:19:02',\n",
              "  'prod': 1001,\n",
              "  'qn': 10},\n",
              " '2': {'amount': 850,\n",
              "  'datetime': '09/06/2021, 14:50:38',\n",
              "  'prod': '1003',\n",
              "  'qn': 10},\n",
              " '3': {'amount': 850,\n",
              "  'datetime': '09/06/2021, 14:50:38',\n",
              "  'prod': '1003',\n",
              "  'qn': 10},\n",
              " 4: {'amount': 5, 'datetime': '09/06/2021, 14:56:23', 'prod': '1004', 'qn': 1}}"
            ]
          },
          "metadata": {},
          "execution_count": 57
        }
      ]
    }
  ]
}